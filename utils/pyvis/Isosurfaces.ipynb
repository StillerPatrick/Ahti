{
 "cells": [
  {
   "cell_type": "code",
   "execution_count": 1,
   "metadata": {},
   "outputs": [],
   "source": [
    "from spherical import *"
   ]
  },
  {
   "cell_type": "code",
   "execution_count": 2,
   "metadata": {},
   "outputs": [],
   "source": [
    "# Author: Gael Varoquaux <gael.varoquaux@normalesup.org>\n",
    "# Copyright (c) 2008, Enthought, Inc.\n",
    "# License: BSD Style.\n",
    "\n",
    "from mayavi import mlab\n",
    "import numpy as np\n",
    "from scipy.special import sph_harm\n",
    "\n",
    "# Create a sphere\n",
    "r = 0.3\n",
    "pi = np.pi\n",
    "cos = np.cos\n",
    "sin = np.sin\n",
    "phi, theta = np.mgrid[0:pi:101j, 0:2 * pi:101j]\n",
    "\n",
    "x = r * sin(phi) * cos(theta)\n",
    "y = r * sin(phi) * sin(theta)\n",
    "z = r * cos(phi)\n",
    "\n",
    "mlab.figure(1, bgcolor=(1, 1, 1), fgcolor=(0, 0, 0), size=(400, 300))\n",
    "mlab.clf()\n",
    "# Represent spherical harmonics on the surface of the sphere\n",
    "for n in range(1, 6):\n",
    "    for m in range(n):\n",
    "        s = sph_harm(m, n, theta, phi).real\n",
    "\n",
    "        #mlab.mesh(x - m, y - n, z, scalars=s, colormap='jet')\n",
    "\n",
    "        s[s < 0] *= 0.97\n",
    "\n",
    "        s /= s.max()\n",
    "        mlab.mesh(s * x - m, s * y - n, s * z + 1.3,\n",
    "                  scalars=s, colormap='Spectral')\n",
    "\n",
    "mlab.view(90, 70, 6.2, (-1.3, -2.9, 0.25))\n",
    "mlab.show()"
   ]
  },
  {
   "cell_type": "code",
   "execution_count": 3,
   "metadata": {},
   "outputs": [
    {
     "name": "stdout",
     "output_type": "stream",
     "text": [
      "Object `np.angle.T.ravel` not found.\n"
     ]
    }
   ],
   "source": []
  },
  {
   "cell_type": "code",
   "execution_count": 4,
   "metadata": {},
   "outputs": [],
   "source": [
    "import h5py\n",
    "import numpy as np\n",
    "from matplotlib import pyplot as plt\n",
    "from mayavi import mlab\n",
    "from scipy.special import *\n"
   ]
  },
  {
   "cell_type": "markdown",
   "metadata": {},
   "source": [
    "# Generate the Grid"
   ]
  },
  {
   "cell_type": "markdown",
   "metadata": {},
   "source": [
    "## Get the hydrogen radial Wavefunction"
   ]
  },
  {
   "cell_type": "code",
   "execution_count": 12,
   "metadata": {},
   "outputs": [],
   "source": [
    "from sympy import *\n",
    "from sympy.physics.hydrogen import R_nl\n",
    "from sympy import var \n",
    "from scipy import special\n",
    "\n",
    "var(\"r Z\")\n",
    "expr = R_nl(4, 2, r, Z)\n",
    "radial_wv = lambdify( [r, Z], expr, \"numpy\")"
   ]
  },
  {
   "cell_type": "code",
   "execution_count": 13,
   "metadata": {},
   "outputs": [
    {
     "name": "stderr",
     "output_type": "stream",
     "text": [
      "/home/zaph0d/miniconda3/envs/py35_mayavi/lib/python3.5/site-packages/ipykernel_launcher.py:25: RuntimeWarning: invalid value encountered in true_divide\n",
      "/home/zaph0d/miniconda3/envs/py35_mayavi/lib/python3.5/site-packages/ipykernel_launcher.py:27: RuntimeWarning: invalid value encountered in true_divide\n"
     ]
    }
   ],
   "source": [
    "nx = 200\n",
    "ny = 200 \n",
    "nz = 200\n",
    "\n",
    "x0 = -5.0\n",
    "x1 = 5.0 \n",
    "x = np.linspace(x0, x1, nx, endpoint=False)\n",
    "\n",
    "y0 = x0\n",
    "y1 = x1\n",
    "y = np.linspace(y0, y1, ny, endpoint=False)\n",
    "\n",
    "z0 = x0\n",
    "z1 = x1\n",
    "z = np.linspace(z0, z1, nz, endpoint=False)\n",
    "\n",
    "X, Y, Z = np.meshgrid(x, y, z)\n",
    "\n",
    "r = np.sqrt(X**2 + Y**2 + Z**2)\n",
    "ch = 1\n",
    "R_wv = radial_wv(r, ch)\n",
    "\n",
    "\n",
    "Phi = np.arctan2(Y, X)\n",
    "Theta = np.arccos(Z / r)\n",
    "\n",
    "Y_wv = 1/4. * np.sqrt(15/(2*np.pi)) * (X + 1j * Y)**2/r**2\n",
    "Psi = R_wv #* Y_wv\n",
    "\n",
    "mlab.figure(1, fgcolor=(1,1,1), bgcolor=(1,1,1))\n",
    "src = mlab.pipeline.scalar_field(np.abs(Psi)**2)\n",
    "src2 = mlab.pipeline.set_active_attribute(src, point_scalars='scalar')\n",
    "contour = mlab.pipeline.contour(src2)\n",
    "mlab.pipeline.surface(contour)\n",
    "mlab.show()"
   ]
  },
  {
   "cell_type": "markdown",
   "metadata": {},
   "source": [
    "# Load simulation data and plot isosurfaces"
   ]
  },
  {
   "cell_type": "code",
   "execution_count": 3,
   "metadata": {},
   "outputs": [],
   "source": [
    "import numpy as np\n",
    "import h5py\n",
    "from mayavi import mlab\n",
    "from Loader3D import *"
   ]
  },
  {
   "cell_type": "code",
   "execution_count": 6,
   "metadata": {},
   "outputs": [
    {
     "name": "stdout",
     "output_type": "stream",
     "text": [
      "Data has shape(300, 200, 200)\n"
     ]
    }
   ],
   "source": [
    "nx = 300\n",
    "ny = 200\n",
    "nz = 200\n",
    "loc = \"../../build/init.h5\"\n",
    "\n",
    "l = CLoader3D(nx,ny,nz,loc)\n",
    "data = l.get_complex_data(\"/real\",\"/imag\")\n",
    "\n",
    "x = np.linspace(-30.0, 30.0, nx, endpoint=False)\n",
    "y = np.linspace(-30.0, 30.0, ny, endpoint=False)\n",
    "z = np.linspace(-30.0, 30.0, nz, endpoint=False)\n",
    "\n",
    "\n",
    "X,Y,Z = np.meshgrid(x, y, z)\n",
    "mlab.figure(1, fgcolor=(1,1,1), bgcolor=(1,1,1))\n",
    "ab = np.abs(data)**2\n",
    "src = mlab.pipeline.scalar_field(ab)\n",
    "mlab.pipeline.iso_surface(src, contours=[ab.min(), ], opacity=0.1)\n",
    "mlab.show()"
   ]
  },
  {
   "cell_type": "code",
   "execution_count": 1,
   "metadata": {},
   "outputs": [
    {
     "name": "stdout",
     "output_type": "stream",
     "text": [
      "Object `np.array.ptp` not found.\n"
     ]
    }
   ],
   "source": []
  },
  {
   "cell_type": "code",
   "execution_count": null,
   "metadata": {},
   "outputs": [],
   "source": []
  }
 ],
 "metadata": {
  "kernelspec": {
   "display_name": "Python 3",
   "language": "python",
   "name": "python3"
  },
  "language_info": {
   "codemirror_mode": {
    "name": "ipython",
    "version": 3
   },
   "file_extension": ".py",
   "mimetype": "text/x-python",
   "name": "python",
   "nbconvert_exporter": "python",
   "pygments_lexer": "ipython3",
   "version": "3.5.4"
  }
 },
 "nbformat": 4,
 "nbformat_minor": 2
}
