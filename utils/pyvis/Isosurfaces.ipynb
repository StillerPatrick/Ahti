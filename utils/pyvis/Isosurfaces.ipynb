{
 "cells": [
  {
   "cell_type": "code",
   "execution_count": 17,
   "metadata": {},
   "outputs": [],
   "source": [
    "from spherical import *"
   ]
  },
  {
   "cell_type": "code",
   "execution_count": 3,
   "metadata": {},
   "outputs": [
    {
     "data": {
      "text/plain": [
       "\u001b[0;31mType:\u001b[0m            nd_grid\n",
       "\u001b[0;31mString form:\u001b[0m     <numpy.lib.index_tricks.nd_grid object at 0x7f19101e5d68>\n",
       "\u001b[0;31mLength:\u001b[0m          0\n",
       "\u001b[0;31mFile:\u001b[0m            ~/miniconda3/envs/py35_mayavi/lib/python3.5/site-packages/numpy/lib/index_tricks.py\n",
       "\u001b[0;31mDocstring:\u001b[0m      \n",
       "`nd_grid` instance which returns an open multi-dimensional \"meshgrid\".\n",
       "\n",
       "An instance of `numpy.lib.index_tricks.nd_grid` which returns an open\n",
       "(i.e. not fleshed out) mesh-grid when indexed, so that only one dimension\n",
       "of each returned array is greater than 1.  The dimension and number of the\n",
       "output arrays are equal to the number of indexing dimensions.  If the step\n",
       "length is not a complex number, then the stop is not inclusive.\n",
       "\n",
       "However, if the step length is a **complex number** (e.g. 5j), then\n",
       "the integer part of its magnitude is interpreted as specifying the\n",
       "number of points to create between the start and stop values, where\n",
       "the stop value **is inclusive**.\n",
       "\n",
       "Returns\n",
       "----------\n",
       "mesh-grid `ndarrays` with only one dimension :math:`\\neq 1`\n",
       "\n",
       "See Also\n",
       "--------\n",
       "np.lib.index_tricks.nd_grid : class of `ogrid` and `mgrid` objects\n",
       "mgrid : like `ogrid` but returns dense (or fleshed out) mesh grids\n",
       "r_ : array concatenator\n",
       "\n",
       "Examples\n",
       "--------\n",
       ">>> from numpy import ogrid\n",
       ">>> ogrid[-1:1:5j]\n",
       "array([-1. , -0.5,  0. ,  0.5,  1. ])\n",
       ">>> ogrid[0:5,0:5]\n",
       "[array([[0],\n",
       "        [1],\n",
       "        [2],\n",
       "        [3],\n",
       "        [4]]), array([[0, 1, 2, 3, 4]])]\n",
       "\u001b[0;31mClass docstring:\u001b[0m\n",
       "Construct a multi-dimensional \"meshgrid\".\n",
       "\n",
       "``grid = nd_grid()`` creates an instance which will return a mesh-grid\n",
       "when indexed.  The dimension and number of the output arrays are equal\n",
       "to the number of indexing dimensions.  If the step length is not a\n",
       "complex number, then the stop is not inclusive.\n",
       "\n",
       "However, if the step length is a **complex number** (e.g. 5j), then the\n",
       "integer part of its magnitude is interpreted as specifying the\n",
       "number of points to create between the start and stop values, where\n",
       "the stop value **is inclusive**.\n",
       "\n",
       "If instantiated with an argument of ``sparse=True``, the mesh-grid is\n",
       "open (or not fleshed out) so that only one-dimension of each returned\n",
       "argument is greater than 1.\n",
       "\n",
       "Parameters\n",
       "----------\n",
       "sparse : bool, optional\n",
       "    Whether the grid is sparse or not. Default is False.\n",
       "\n",
       "Notes\n",
       "-----\n",
       "Two instances of `nd_grid` are made available in the NumPy namespace,\n",
       "`mgrid` and `ogrid`::\n",
       "\n",
       "    mgrid = nd_grid(sparse=False)\n",
       "    ogrid = nd_grid(sparse=True)\n",
       "\n",
       "Users should use these pre-defined instances instead of using `nd_grid`\n",
       "directly.\n",
       "\n",
       "Examples\n",
       "--------\n",
       ">>> mgrid = np.lib.index_tricks.nd_grid()\n",
       ">>> mgrid[0:5,0:5]\n",
       "array([[[0, 0, 0, 0, 0],\n",
       "        [1, 1, 1, 1, 1],\n",
       "        [2, 2, 2, 2, 2],\n",
       "        [3, 3, 3, 3, 3],\n",
       "        [4, 4, 4, 4, 4]],\n",
       "       [[0, 1, 2, 3, 4],\n",
       "        [0, 1, 2, 3, 4],\n",
       "        [0, 1, 2, 3, 4],\n",
       "        [0, 1, 2, 3, 4],\n",
       "        [0, 1, 2, 3, 4]]])\n",
       ">>> mgrid[-1:1:5j]\n",
       "array([-1. , -0.5,  0. ,  0.5,  1. ])\n",
       "\n",
       ">>> ogrid = np.lib.index_tricks.nd_grid(sparse=True)\n",
       ">>> ogrid[0:5,0:5]\n",
       "[array([[0],\n",
       "        [1],\n",
       "        [2],\n",
       "        [3],\n",
       "        [4]]), array([[0, 1, 2, 3, 4]])]\n"
      ]
     },
     "metadata": {},
     "output_type": "display_data"
    }
   ],
   "source": [
    "np.ogrid?"
   ]
  },
  {
   "cell_type": "code",
   "execution_count": 37,
   "metadata": {},
   "outputs": [
    {
     "name": "stdout",
     "output_type": "stream",
     "text": [
      "Object `np.angle.T.ravel` not found.\n"
     ]
    }
   ],
   "source": [
    "np.angle.T.ravel?"
   ]
  },
  {
   "cell_type": "code",
   "execution_count": 1,
   "metadata": {},
   "outputs": [],
   "source": [
    "import h5py\n",
    "import numpy as np\n",
    "from matplotlib import pyplot as plt\n",
    "from mayavi import mlab\n",
    "from scipy.special import *\n"
   ]
  },
  {
   "cell_type": "markdown",
   "metadata": {},
   "source": [
    "# Generate the Grid"
   ]
  },
  {
   "cell_type": "markdown",
   "metadata": {},
   "source": [
    "## Get the hydrogen radial Wavefunction"
   ]
  },
  {
   "cell_type": "code",
   "execution_count": null,
   "metadata": {},
   "outputs": [],
   "source": [
    "from sympy import *\n",
    "from sympy.physics.hydrogen import R_nl\n",
    "from sympy import var \n",
    "from scipy import special\n",
    "\n",
    "var(\"r Z\")\n",
    "expr = R_nl(3, 1, r, Z)\n",
    "radial_wv = lambdify( [r, Z], expr, \"numpy\")"
   ]
  },
  {
   "cell_type": "code",
   "execution_count": null,
   "metadata": {},
   "outputs": [],
   "source": [
    "nx = 200\n",
    "ny = 200 \n",
    "nz = 200\n",
    "\n",
    "x0 = -5.0\n",
    "x1 = 5.0 \n",
    "x = np.linspace(x0, x1, nx, endpoint=False)\n",
    "\n",
    "y0 = x0\n",
    "y1 = x1\n",
    "y = np.linspace(y0, y1, ny, endpoint=False)\n",
    "\n",
    "z0 = x0\n",
    "z1 = x1\n",
    "z = np.linspace(z0, z1, nz, endpoint=False)\n",
    "\n",
    "X, Y, Z = np.meshgrid(x, y, z)\n",
    "\n",
    "r = np.sqrt(X**2 + Y**2 + Z**2)\n",
    "ch = 1\n",
    "R_wv = radial_wv(r, ch)\n",
    "\n",
    "\n",
    "Phi = np.arctan2(Y, X)\n",
    "Theta = np.arccos(Z / r)\n",
    "\n",
    "Y_wv = 1/2. * np.sqrt(3/np.pi) * Z / r\n",
    "print(Y_wv)\n",
    "Psi = R_wv * Y_wv\n",
    "\n",
    "mlab.figure(1, fgcolor=(1,1,1), bgcolor=(1,1,1))\n",
    "src = mlab.pipeline.scalar_field(np.abs(Psi)**2)\n",
    "src2 = mlab.pipeline.set_active_attribute(src, point_scalars='scalar')\n",
    "contour = mlab.pipeline.contour(src2)\n",
    "mlab.pipeline.surface(contour)\n",
    "mlab.show()"
   ]
  },
  {
   "cell_type": "code",
   "execution_count": null,
   "metadata": {},
   "outputs": [],
   "source": []
  },
  {
   "cell_type": "code",
   "execution_count": null,
   "metadata": {},
   "outputs": [],
   "source": []
  }
 ],
 "metadata": {
  "kernelspec": {
   "display_name": "Python 3",
   "language": "python",
   "name": "python3"
  },
  "language_info": {
   "codemirror_mode": {
    "name": "ipython",
    "version": 3
   },
   "file_extension": ".py",
   "mimetype": "text/x-python",
   "name": "python",
   "nbconvert_exporter": "python",
   "pygments_lexer": "ipython3",
   "version": "3.5.4"
  }
 },
 "nbformat": 4,
 "nbformat_minor": 2
}
