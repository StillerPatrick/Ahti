{
 "cells": [
  {
   "cell_type": "code",
   "execution_count": 26,
   "metadata": {},
   "outputs": [
    {
     "name": "stdout",
     "output_type": "stream",
     "text": [
      "Using dtype=wf\n"
     ]
    }
   ],
   "source": [
    "import matplotlib.pyplot as plt\n",
    "import numpy as np\n",
    "from fileloader import * \n",
    "from decimal import *\n",
    "%matplotlib qt5\n",
    "\n",
    "fig = plt.figure(figsize=(14,10))\n",
    "val1 = load_timestep(\"/Users/max/git/Ahti/cmake-build-debug/bin/wf_out.h5\",0, t0=1,dtype=\"wf\")\n",
    "x,dx = np.linspace(-6.0, 6.0, 1000,retstep=True)\n",
    "\n",
    "dt = 0.001\n",
    "\n",
    "val1 = np.sqrt(1./2.) * 0.751125544464942 * np.exp(-x**2 * 0.5) * (np.exp(-1j * ( 0.5  * 0 *  dt)) + np.sqrt(1/2.) * 2 * x * np.exp\n",
    "                                                                   (-1j * ( 1.5  * 0 *  dt)))\n",
    "\n",
    "\n",
    "#plt.subplot(211)\n",
    "plt.plot(x, val1.imag, \"--\",label=r\"Imag analytical\",linewidth=3.0)\n",
    "\n",
    "plt.plot(x,val1.real, \"--\", label=r\"Real analytical\",linewidth=3.0)\n",
    "\n",
    "plt.plot(x, np.abs(val1)**2, \"--\", c=\"m\", label=r\"$|\\Psi^2| analytical$\",linewidth=3.0)\n",
    "\n",
    "\n",
    "val2 = load_timestep(\"/Users/max/git/Ahti/cmake-build-release/bin/wf_out.h5\", 900,dtype=\"wf\")\n",
    "#val2 = load_timestep(\"/Users/max/git/Ahti/cmake-build-debug/bin/coef_out_0.h5\", 0,dtype=\"co\")\n",
    "\n",
    "#val2 *= np.exp(-1j * 0.033594675913)\n",
    "\n",
    "\n",
    "plt.xlabel(r\"Location $(a.u.)$\",size=12)\n",
    "plt.ylabel(r\"$\\psi$\",size=12)\n",
    "\n",
    "#plt.plot(x, val2.real, label=r\"Real numerical\")\n",
    "#plt.plot(x, val2.imag, label=r\"Imag Numerical\")\n",
    "\n",
    "#plt.plot(x, np.abs(val2)**2, c=\"blue\",label=r\"$|\\Psi|^2$ numerical\")\n",
    "plt.title(r\"Time evolution of harmonic Oscillator ground state at $t_i={0:.2f} \\; a.u$\".format(dt*20))\n",
    "plt.legend(loc=1)\n",
    "#plt.plot(x[1000:4000],np.abs((val1.imag - val2.imag)/val1.imag )[1000:4000], label=r\"Relative error in imaginary part\")\n",
    "#plt.plot(x[1000:4000],np.abs((val1.real - val2.real)/val1.real)[1000:4000], label= r\"Relative error in real part\")\n",
    "#plt.subplot(212)\n",
    "#plt.plot(x[500:4500], np.abs((val2.real-val1.real)/val1.real)[500:4500],label=r\"Relative error real part\")\n",
    "#plt.plot(x[500:4500], np.abs((val2.imag-val1.imag)/val1.imag)[500:4500],label=r\"Relative error imaginary part\")\n",
    "#plt.xlabel(r\"Location $(a.u.)$\",size=12)\n",
    "#plt.ylabel(r\"$|\\Delta \\Psi_{rel}|$\",size=12)\n",
    "#plt.legend(loc=\"best\")\n",
    "plt.show()"
   ]
  },
  {
   "cell_type": "code",
   "execution_count": 27,
   "metadata": {},
   "outputs": [
    {
     "name": "stdout",
     "output_type": "stream",
     "text": [
      "0.2448277258220594\n",
      "Using dtype=wf\n"
     ]
    }
   ],
   "source": [
    "import numpy as np\n",
    "import matplotlib.pyplot as plt\n",
    "from fileloader import * \n",
    "%matplotlib qt5\n",
    "\n",
    "dt = 0.0256637\n",
    "dE = 2*np.pi/dt/1000\n",
    "print(dE)\n",
    "E = np.linspace(-8.0, 8.0, 1000)\n",
    "\n",
    "val2 = load_timestep(\"/Users/max/git/Ahti/cmake-build-release/bin/psi.h5\", 0,dtype=\"wf\")\n",
    "fig = plt.figure(figsize=(12,8))\n",
    "plt.plot(E, np.abs(val2)**2)\n",
    "plt.show()\n"
   ]
  },
  {
   "cell_type": "code",
   "execution_count": 7,
   "metadata": {},
   "outputs": [
    {
     "data": {
      "text/plain": [
       "0.70710678118654757"
      ]
     },
     "execution_count": 7,
     "metadata": {},
     "output_type": "execute_result"
    }
   ],
   "source": [
    "np.sqrt(1/2)"
   ]
  },
  {
   "cell_type": "code",
   "execution_count": 1,
   "metadata": {},
   "outputs": [
    {
     "name": "stderr",
     "output_type": "stream",
     "text": [
      "/usr/local/lib/python3.6/site-packages/ipykernel_launcher.py:16: ComplexWarning: Casting complex values to real discards the imaginary part\n",
      "  app.launch_new_instance()\n"
     ]
    }
   ],
   "source": [
    "import numpy as np\n",
    "import matplotlib.pyplot as plt\n",
    "%matplotlib qt5\n",
    "\n",
    "gc = lambda x: 0.7511255444649425 * np.exp(- x**2 / 2)\n",
    "\n",
    "x,dx = np.linspace(-10.0, 10.0, 1000, retstep=True)\n",
    "\n",
    "psi = gc(x)\n",
    "\n",
    "psi_c = np.fft.fft(psi)\n",
    "\n",
    "psi = np.zeros(psi_c.size)\n",
    "for i in range(0, 1000):\n",
    "    for j in range(0, psi_c.size):\n",
    "        psi[i] += psi_c[j] * np.exp(1j * 2*np.pi/20.0 * i * (-10.0 + i * dx))\n",
    "\n",
    "plt.plot(x, psi.real)\n",
    "plt.plot(x, psi.imag)\n",
    "plt.show()"
   ]
  },
  {
   "cell_type": "code",
   "execution_count": 5,
   "metadata": {},
   "outputs": [
    {
     "name": "stdout",
     "output_type": "stream",
     "text": [
      "Using dtype=wf\n"
     ]
    },
    {
     "data": {
      "image/png": "[encoded data removed]",
      "text/plain": [
       "<matplotlib.figure.Figure at 0x112e27a20>"
      ]
     },
     "metadata": {},
     "output_type": "display_data"
    }
   ],
   "source": [
    "import numpy as np\n",
    "import matplotlib.pyplot as plt\n",
    "from fileloader import * \n",
    "\n",
    "\n",
    "\n",
    "E = np.linspace(-1000/2+1,1000/2,1000)\n",
    "val2 = load_timestep(\"/Users/max/git/Ahti/cmake-build-default/bin/spec_fun.h5\", 0,dtype=\"wf\")\n",
    "fig = plt.figure(figsize=(12,8))\n",
    "plt.plot(E,np.abs(val2)**2)\n",
    "plt.show()"
   ]
  },
  {
   "cell_type": "code",
   "execution_count": null,
   "metadata": {
    "collapsed": true
   },
   "outputs": [],
   "source": []
  }
 ],
 "metadata": {
  "kernelspec": {
   "display_name": "Python 3",
   "language": "python",
   "name": "python3"
  },
  "language_info": {
   "codemirror_mode": {
    "name": "ipython",
    "version": 3
   },
   "file_extension": ".py",
   "mimetype": "text/x-python",
   "name": "python",
   "nbconvert_exporter": "python",
   "pygments_lexer": "ipython3",
   "version": "3.6.3"
  }
 },
 "nbformat": 4,
 "nbformat_minor": 2
}
