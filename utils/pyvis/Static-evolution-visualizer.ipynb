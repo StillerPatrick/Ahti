{
 "cells": [
  {
   "cell_type": "code",
   "execution_count": 39,
   "metadata": {},
   "outputs": [
    {
     "name": "stdout",
     "output_type": "stream",
     "text": [
      "Using dtype=wf\n",
      "0.0207628228412\n"
     ]
    }
   ],
   "source": [
    "import matplotlib.pyplot as plt\n",
    "import numpy as np\n",
    "from fileloader import * \n",
    "%matplotlib qt5\n",
    "\n",
    "fig = plt.figure(figsize=(14,10))\n",
    "#val1 = load_timestep(\"/Users/max/git/Ahti/cmake-build-debug/bin/wf_out.h5\",0, t0=1,dtype=\"wf\")\n",
    "x = np.linspace(-8, 8, 5000)\n",
    "\n",
    "val1 = 0.7511255444649425*np.exp(-x**2 * 0.5) * np.exp(-1j*0.05)\n",
    "\n",
    "plt.plot(x, val1.imag, \"--\",label=r\"Imag analytical\")\n",
    "\n",
    "plt.plot(x,val1.real, \"--\", label=r\"Real analytical\")\n",
    "\n",
    "#plt.plot(np.abs(val1)**2)\n",
    "\n",
    "val2 = load_timestep(\"/Users/max/git/Ahti/cmake-build-debug/bin/wf_out.h5\",5, t0=1,dtype=\"wf\")\n",
    "\n",
    "#val2 *= np.exp(-1j * 0.033594675913)\n",
    "\n",
    "\n",
    "plt.xlabel(r\"Location $(a.u.)$\",size=20)\n",
    "plt.ylabel(r\"$\\psi$\",size=20)\n",
    "\n",
    "plt.plot(x, val2.real, label=r\"Real numerical\")\n",
    "plt.plot(x, val2.imag, label=r\"Imag Numerical\")\n",
    "\n",
    "plt.legend(loc=\"best\")\n",
    "plt.show()\n",
    "\n",
    "sp = np.trapz(np.conj(val1)*val2, x=x, dx=0.005)\n",
    "print(np.angle(sp))"
   ]
  },
  {
   "cell_type": "code",
   "execution_count": null,
   "metadata": {
    "collapsed": true
   },
   "outputs": [],
   "source": [
    "val1 = load_timestep(\"/home/zaph0d/git/Ahti/cmake-build-debug/bin/coeff_out_0.h5\",0, t0=0, dtype=\"co\")\n",
    "val2 = load_timestep(\"/home/zaph0d/git/Ahti/cmake-build-debug/bin/coeff_out_1.h5\",0, t0=0, dtype=\"co\")\n",
    "val3 = load_timestep(\"/home/zaph0d/git/Ahti/cmake-build-debug/bin/coeff_out_2.h5\",0, t0=0, dtype=\"co\")\n",
    "\n",
    "\n",
    "plt.plot(val1.real,\"-o\")\n",
    "plt.plot(val2.real,\"-*\")\n",
    "plt.plot(val3.real,\"-x\")\n",
    "plt.show()"
   ]
  },
  {
   "cell_type": "code",
   "execution_count": 7,
   "metadata": {},
   "outputs": [
    {
     "data": {
      "text/plain": [
       "0.70710678118654757"
      ]
     },
     "execution_count": 7,
     "metadata": {},
     "output_type": "execute_result"
    }
   ],
   "source": [
    "np.sqrt(1/2)"
   ]
  },
  {
   "cell_type": "code",
   "execution_count": null,
   "metadata": {
    "collapsed": true
   },
   "outputs": [],
   "source": []
  }
 ],
 "metadata": {
  "kernelspec": {
   "display_name": "Python 3",
   "language": "python",
   "name": "python3"
  },
  "language_info": {
   "codemirror_mode": {
    "name": "ipython",
    "version": 3
   },
   "file_extension": ".py",
   "mimetype": "text/x-python",
   "name": "python",
   "nbconvert_exporter": "python",
   "pygments_lexer": "ipython3",
   "version": "3.6.1"
  }
 },
 "nbformat": 4,
 "nbformat_minor": 2
}
