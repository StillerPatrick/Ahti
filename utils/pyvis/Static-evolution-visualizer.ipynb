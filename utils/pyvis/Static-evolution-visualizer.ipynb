{
 "cells": [
  {
   "cell_type": "code",
   "execution_count": 17,
   "metadata": {},
   "outputs": [
    {
     "name": "stdout",
     "output_type": "stream",
     "text": [
      "Using dtype=wf\n"
     ]
    }
   ],
   "source": [
    "import matplotlib.pyplot as plt\n",
    "import numpy as np\n",
    "from fileloader import * \n",
    "%matplotlib qt5\n",
    "val1 = load_timestep(\"/home/zaph0d/git/Ahti/cmake-build-debug/bin/wf_out.h5\",0, t0=2,dtype=\"wf\")\n",
    "\n",
    "plt.plot(val1.real, \"--\")\n",
    "\n",
    "plt.plot(val1.imag, \"--\")\n",
    "\n",
    "plt.plot(np.abs(val1)**2)\n",
    "plt.show()"
   ]
  },
  {
   "cell_type": "code",
   "execution_count": null,
   "metadata": {
    "collapsed": true
   },
   "outputs": [],
   "source": [
    "val1 = load_timestep(\"/home/zaph0d/git/Ahti/cmake-build-debug/bin/coeff_out_0.h5\",0, t0=0, dtype=\"co\")\n",
    "val2 = load_timestep(\"/home/zaph0d/git/Ahti/cmake-build-debug/bin/coeff_out_1.h5\",0, t0=0, dtype=\"co\")\n",
    "val3 = load_timestep(\"/home/zaph0d/git/Ahti/cmake-build-debug/bin/coeff_out_2.h5\",0, t0=0, dtype=\"co\")\n",
    "\n",
    "\n",
    "plt.plot(val1.real,\"-o\")\n",
    "plt.plot(val2.real,\"-*\")\n",
    "plt.plot(val3.real,\"-x\")\n",
    "plt.show()"
   ]
  },
  {
   "cell_type": "code",
   "execution_count": null,
   "metadata": {
    "collapsed": true
   },
   "outputs": [],
   "source": []
  }
 ],
 "metadata": {
  "kernelspec": {
   "display_name": "Python 3",
   "language": "python",
   "name": "python3"
  },
  "language_info": {
   "codemirror_mode": {
    "name": "ipython",
    "version": 3
   },
   "file_extension": ".py",
   "mimetype": "text/x-python",
   "name": "python",
   "nbconvert_exporter": "python",
   "pygments_lexer": "ipython3",
   "version": "3.6.1"
  }
 },
 "nbformat": 4,
 "nbformat_minor": 2
}
