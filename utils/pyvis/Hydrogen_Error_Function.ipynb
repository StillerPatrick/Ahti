{
 "cells": [
  {
   "cell_type": "code",
   "execution_count": 1,
   "metadata": {},
   "outputs": [],
   "source": [
    "import numpy as np\n",
    "import h5py\n",
    "from mayavi import mlab\n",
    "from Loader3D import *"
   ]
  },
  {
   "cell_type": "markdown",
   "metadata": {},
   "source": [
    "## Set parameters of the Data sources"
   ]
  },
  {
   "cell_type": "code",
   "execution_count": 12,
   "metadata": {},
   "outputs": [],
   "source": [
    "nx = 200\n",
    "ny = 200\n",
    "nz = 200\n",
    "loc_data = \"../../build/test.h5\"\n",
    "loc_init = \"../../build/init.h5\"\n",
    "\n",
    "# Use the right energy level\n",
    "n = 2\n",
    "E = -1/2 * 1/n**2"
   ]
  },
  {
   "cell_type": "markdown",
   "metadata": {},
   "source": [
    "## Load the initial data an time evolve it"
   ]
  },
  {
   "cell_type": "code",
   "execution_count": 22,
   "metadata": {},
   "outputs": [
    {
     "name": "stdout",
     "output_type": "stream",
     "text": [
      "Data has shape(200, 200, 200)\n"
     ]
    }
   ],
   "source": [
    "l = CLoader3D(nx,ny,nz,loc_init)\n",
    "psi_init = l.get_complex_data(\"/real\",\"/imag\")\n",
    "t0 = 0\n",
    "dt = 0.001\n",
    "nt = 100\n",
    "psi_init *= np.exp(-1j * E * nt * dt)"
   ]
  },
  {
   "cell_type": "markdown",
   "metadata": {},
   "source": [
    "## Load the Time-evolved data "
   ]
  },
  {
   "cell_type": "code",
   "execution_count": 23,
   "metadata": {},
   "outputs": [
    {
     "name": "stdout",
     "output_type": "stream",
     "text": [
      "Data has shape(200, 200, 200)\n"
     ]
    }
   ],
   "source": [
    "l = CLoader3D(nx,ny,nz,loc_data)\n",
    "psi_num = l.get_complex_data(\"/real\",\"/imag\")"
   ]
  },
  {
   "cell_type": "markdown",
   "metadata": {},
   "source": [
    "## Plot the 3D errors"
   ]
  },
  {
   "cell_type": "code",
   "execution_count": 30,
   "metadata": {},
   "outputs": [],
   "source": [
    "mlab.figure(1, fgcolor=(1,1,1), bgcolor=(0.9,0.9,0.9))\n",
    "data = np.abs(psi_num)**2\n",
    "src = mlab.pipeline.scalar_field(data)\n",
    "mlab.pipeline.iso_surface(src,opacity=0.2, contours=20)\n",
    "src2 = mlab.pipeline.image_plane_widget(src, plane_orientation='z_axes', slice_index=10)\n",
    "mlab.pipeline.image_plane_widget(src, plane_orientation='x_axes', slice_index=10)\n",
    "mlab.colorbar(src2, orientation='vertical', title='Probability density')\n",
    "mlab.show()"
   ]
  },
  {
   "cell_type": "code",
   "execution_count": 32,
   "metadata": {},
   "outputs": [],
   "source": [
    "data = np.abs(psi_init.real - psi_num.real) #/ np.max(np.abs(psi_init.real - psi_num.real))\n",
    "src = mlab.pipeline.scalar_field(data)\n",
    "mlab.pipeline.iso_surface(src,opacity=0.2, contours=20)\n",
    "src2 = mlab.pipeline.image_plane_widget(src, plane_orientation='z_axes', slice_index=10)\n",
    "mlab.pipeline.image_plane_widget(src, plane_orientation='x_axes', slice_index=10)\n",
    "mlab.colorbar(src2, orientation='vertical', title='Probability density')\n",
    "mlab.show()"
   ]
  },
  {
   "cell_type": "code",
   "execution_count": 29,
   "metadata": {},
   "outputs": [],
   "source": [
    "data = np.abs(psi_init.imag - psi_num.imag)/np.max(np.abs(psi_init.imag - psi_num.imag))\n",
    "src = mlab.pipeline.scalar_field(data)\n",
    "mlab.pipeline.iso_surface(src,opacity=0.2, contours=20)\n",
    "src2 = mlab.pipeline.image_plane_widget(src, plane_orientation='z_axes', slice_index=10)\n",
    "mlab.pipeline.image_plane_widget(src, plane_orientation='x_axes', slice_index=10)\n",
    "mlab.colorbar(src2, orientation='vertical', title='Probability density')\n",
    "mlab.show()"
   ]
  },
  {
   "cell_type": "code",
   "execution_count": null,
   "metadata": {},
   "outputs": [],
   "source": []
  }
 ],
 "metadata": {
  "kernelspec": {
   "display_name": "Python 3",
   "language": "python",
   "name": "python3"
  },
  "language_info": {
   "codemirror_mode": {
    "name": "ipython",
    "version": 3
   },
   "file_extension": ".py",
   "mimetype": "text/x-python",
   "name": "python",
   "nbconvert_exporter": "python",
   "pygments_lexer": "ipython3",
   "version": "3.5.4"
  }
 },
 "nbformat": 4,
 "nbformat_minor": 2
}
