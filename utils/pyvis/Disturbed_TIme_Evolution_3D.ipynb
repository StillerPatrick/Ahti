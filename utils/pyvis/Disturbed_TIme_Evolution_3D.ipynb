{
 "cells": [
  {
   "cell_type": "code",
   "execution_count": 38,
   "metadata": {
    "collapsed": true
   },
   "outputs": [],
   "source": [
    "import numpy as np\n",
    "import h5py\n",
    "import matplotlib.pyplot as plt \n",
    "from Loader3D import *\n",
    "%matplotlib qt5"
   ]
  },
  {
   "cell_type": "markdown",
   "metadata": {},
   "source": [
    "## Set parameters"
   ]
  },
  {
   "cell_type": "code",
   "execution_count": 39,
   "metadata": {
    "collapsed": true
   },
   "outputs": [],
   "source": [
    "filepath=\"../../build/test.h5\"\n",
    "x0 = -6.0\n",
    "x1 = 6.0\n",
    "y0 = x0\n",
    "y1 = x1\n",
    "z0 = x0 \n",
    "z1 = x1 \n",
    "nx = 500\n",
    "ny = 500\n",
    "nz = 300\n",
    "w1 = 1.0 \n",
    "a1 = 1.0\n",
    "l1 = 1.0 \n",
    "dt = 0.001\n",
    "nt = 1000\n",
    "t0 = 0\n",
    "t = np.linspace(0, dt*nt, nt)\n",
    "x = np.linspace(x0,x1,nx, endpoint=False)\n",
    "y = np.linspace(y0,y1,ny, endpoint=False)\n",
    "z = np.linspace(z0,z1,nz, endpoint=False)\n",
    "x_mesh, y_mesh = np.meshgrid(x,y)\n",
    "\n"
   ]
  },
  {
   "cell_type": "markdown",
   "metadata": {},
   "source": [
    "## Define Potential function"
   ]
  },
  {
   "cell_type": "code",
   "execution_count": 40,
   "metadata": {
    "collapsed": true
   },
   "outputs": [],
   "source": [
    "class W_3D:\n",
    "    \"\"\"\n",
    "    Implementation of a linear time-dependent disturbance \n",
    "    term. \n",
    "    \"\"\"\n",
    "    def __init__(self, a1, a2, a3, w1, w2, w3, ft):\n",
    "        \"\"\"\n",
    "        ai: strength of the disturbance in dimension i\n",
    "        wi: frequency of the disturbance in dimension i\n",
    "        \"\"\"\n",
    "        self.a1 = a1 \n",
    "        self.a2 = a2\n",
    "        self.a3 = a3\n",
    "        self.w1 = w1 \n",
    "        self.w2 = w2 \n",
    "        self.w3 = w3\n",
    "        self.ft = ft\n",
    "    \n",
    "    def __call__(self, t, x=0, y=0, z=0):\n",
    "        \"\"\"\n",
    "        Make the object callable so that \n",
    "        it can be used like a function, which\n",
    "        it should in fact represent\n",
    "        t: time\n",
    "        \"\"\"\n",
    "        s1 = self.a1 * self.ft(self.w1* t) \n",
    "        s2 = self.a2 * self.ft(self.w2* t)\n",
    "        s3 = self.a3 * self.ft(self.w3* t)\n",
    "        return s1 + s2 + s3\n",
    "    \n",
    "    \n",
    "class VHarm_3D:\n",
    "    \"\"\"\n",
    "    Implementation of the 3D harmonic potential\n",
    "    in atomic units. \n",
    "    \"\"\"\n",
    "    def __init__(self):\n",
    "        pass\n",
    "    \n",
    "    def __call__(self, x, y, z, t):\n",
    "        \"\"\"\n",
    "        Use objects of the class like \n",
    "        a function, since this what they\n",
    "        are supposed to be represented. \n",
    "        x: x coordinate in a.u.\n",
    "        y: y coordinate in a.u.\n",
    "        z: z coordinate in a.u.\n",
    "        t: time in a.u.\n",
    "        \"\"\"\n",
    "        return 0.5 * (x**2 + y**2 + z **2) \n",
    "\n"
   ]
  },
  {
   "cell_type": "markdown",
   "metadata": {},
   "source": [
    "## Define Time-Evolution Operator"
   ]
  },
  {
   "cell_type": "code",
   "execution_count": 41,
   "metadata": {
    "collapsed": true
   },
   "outputs": [],
   "source": [
    "class U_Lin_Dist_3D:\n",
    "    \"\"\"\n",
    "    Time evolution operator for a\n",
    "    time-dependent disturbance term.\n",
    "    \"\"\"\n",
    "    \n",
    "    def __init__(self, E0, W1, dt):\n",
    "        \"\"\"\n",
    "        E0: Eigenenergy for H_0 Term\n",
    "        W1: Function object reprensenting t\n",
    "        he time-dependent disturbance. It is important\n",
    "        that [H(t),H(t')] = 0 for arbitrary points\n",
    "        in time with t != t'. \n",
    "        dt: Chosen timestep\n",
    "        \"\"\"\n",
    "        self.E0 = E0\n",
    "        self.W1 = W1\n",
    "        self.dt = dt\n",
    "        \n",
    "    def __call__(self, t):\n",
    "        \"\"\"\n",
    "        Calling the timeevolution \n",
    "        operator.\n",
    "        t: array/numpy linspace of the points in \n",
    "        time from [t0,t1]\n",
    "        \"\"\"\n",
    "        return np.exp(-1j * (self.E0 * (self.dt * t.size) + np.trapz(self.W1(t),dx=self.dt)))\n"
   ]
  },
  {
   "cell_type": "code",
   "execution_count": 42,
   "metadata": {
    "collapsed": true
   },
   "outputs": [],
   "source": [
    "Psi0 = lambda x: np.pi**(-0.25) * np.exp(-x**2*0.5)\n",
    "PsiD = lambda x,y,z: Psi0(x) * Psi0(y) * Psi0(0)\n",
    "\n",
    "psi_an = PsiD(x_mesh, y_mesh, 0) + 0 * 1j\n",
    "W = W_3D(a1, a1, a1, w1, w1, w1, lambda t: 0)\n",
    "V = VHarm_3D()\n",
    "U = U_Lin_Dist_3D(1.5, W, dt)\n",
    "psi_an *= np.exp(-1j * 1.5 * dt * nt)\n"
   ]
  },
  {
   "cell_type": "markdown",
   "metadata": {},
   "source": [
    "## Load file and plot"
   ]
  },
  {
   "cell_type": "code",
   "execution_count": 48,
   "metadata": {},
   "outputs": [
    {
     "name": "stdout",
     "output_type": "stream",
     "text": [
      "Data has shape(500, 500, 300)\n",
      "4.83068270107e-08\n"
     ]
    }
   ],
   "source": [
    "loader = CLoader3D(nx, ny, nz, filepath)\n",
    "psi_num = loader.get_complex_data(\"/real\", \"/imag\")\n",
    "psi_num = psi_num[:, :, int(nz/2)]\n",
    "fig = plt.figure(figsize=(10,6))\n",
    "\n",
    "ax = fig.gca(projection='3d')\n",
    "print(np.max(np.abs(psi_an)**2)-np.max(np.abs(psi_num)**2))\n",
    "\n",
    "surf = ax.plot_surface(x_mesh, y_mesh, psi_num.imag, cmap=cm.magma_r,linewidth=1,antialiased=False)\n",
    "plt.title(\"Time evolution 3D Harm. Osc.\")\n",
    "ax.set_xlabel(r\"$x \\; (a.u.)$\")\n",
    "ax.set_ylabel(r\"$y \\; (a.u.)$\")\n",
    "ax.set_zlabel(r\"$|\\Psi|^2$\")\n",
    "\n",
    "fig.colorbar(surf, shrink=0.5, aspect=5)\n",
    "\n",
    "\n",
    "plt.show()"
   ]
  },
  {
   "cell_type": "code",
   "execution_count": null,
   "metadata": {
    "collapsed": true
   },
   "outputs": [],
   "source": []
  }
 ],
 "metadata": {
  "kernelspec": {
   "display_name": "Python 3",
   "language": "python",
   "name": "python3"
  },
  "language_info": {
   "codemirror_mode": {
    "name": "ipython",
    "version": 3
   },
   "file_extension": ".py",
   "mimetype": "text/x-python",
   "name": "python",
   "nbconvert_exporter": "python",
   "pygments_lexer": "ipython3",
   "version": "3.6.2"
  }
 },
 "nbformat": 4,
 "nbformat_minor": 2
}
